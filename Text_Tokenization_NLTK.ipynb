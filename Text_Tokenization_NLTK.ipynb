{
 "cells": [
  {
   "cell_type": "code",
   "execution_count": 5,
   "id": "250ecc9a",
   "metadata": {},
   "outputs": [],
   "source": [
    "# Create the text dataset, we will use the wikipedia\n",
    "import wikipedia as wp\n",
    "import nltk"
   ]
  },
  {
   "cell_type": "code",
   "execution_count": 2,
   "id": "07ca8433",
   "metadata": {},
   "outputs": [],
   "source": [
    "data = wp.page(\"FIFA World Cup\").content"
   ]
  },
  {
   "cell_type": "code",
   "execution_count": 3,
   "id": "65823c6d",
   "metadata": {},
   "outputs": [],
   "source": [
    "# lets print only summary of this page in a new variable \"pargraph\"\n",
    "paragraph = wp.summary(\"FIFA World Cup\",sentences=10)"
   ]
  },
  {
   "cell_type": "code",
   "execution_count": 4,
   "id": "8174a920",
   "metadata": {},
   "outputs": [
    {
     "name": "stdout",
     "output_type": "stream",
     "text": [
      "The FIFA World Cup, often simply called the World Cup, is an international association football competition contested by the senior men's national teams of the members of the Fédération Internationale de Football Association (FIFA), the sport's global governing body. The championship has been awarded every four years since the inaugural tournament in 1930, except in 1942 and 1946 when it was not held because of the Second World War. The current champion is France, which won its second title at the 2018 tournament in Russia.\n",
      "The current format involves a qualification phase, which takes place over the preceding three years, to determine which teams qualify for the tournament phase. In the tournament phase, 32 teams, including the automatically qualifying host nation(s), compete for the title at venues within the host nation(s) over about a month.\n",
      "The 21 World Cup tournaments have been won by eight national teams. Brazil have won five times, and they are the only team to have played in every tournament. The other World Cup winners are Germany and Italy, with four titles each; Argentina, France, and inaugural winner Uruguay, with two titles each; and England and Spain, with one title each.\n",
      "The World Cup is the most prestigious association football tournament in the world, as well as the most widely viewed and followed single sporting event in the world. The cumulative viewership of all matches of the 2006 World Cup was estimated to be 26.29 billion with an estimated 715.1 million people watching the final match, a ninth of the entire population of the planet.17 countries have hosted the World Cup.\n"
     ]
    }
   ],
   "source": [
    "print(paragraph)"
   ]
  },
  {
   "cell_type": "code",
   "execution_count": 6,
   "id": "e24ac684",
   "metadata": {},
   "outputs": [],
   "source": [
    "# Now we will convert complete paragraph into sentences\n",
    "sentences = nltk.sent_tokenize(paragraph,language=\"english\")"
   ]
  },
  {
   "cell_type": "code",
   "execution_count": 7,
   "id": "d65a83a9",
   "metadata": {},
   "outputs": [
    {
     "name": "stdout",
     "output_type": "stream",
     "text": [
      "[\"The FIFA World Cup, often simply called the World Cup, is an international association football competition contested by the senior men's national teams of the members of the Fédération Internationale de Football Association (FIFA), the sport's global governing body.\", 'The championship has been awarded every four years since the inaugural tournament in 1930, except in 1942 and 1946 when it was not held because of the Second World War.', 'The current champion is France, which won its second title at the 2018 tournament in Russia.', 'The current format involves a qualification phase, which takes place over the preceding three years, to determine which teams qualify for the tournament phase.', 'In the tournament phase, 32 teams, including the automatically qualifying host nation(s), compete for the title at venues within the host nation(s) over about a month.', 'The 21 World Cup tournaments have been won by eight national teams.', 'Brazil have won five times, and they are the only team to have played in every tournament.', 'The other World Cup winners are Germany and Italy, with four titles each; Argentina, France, and inaugural winner Uruguay, with two titles each; and England and Spain, with one title each.', 'The World Cup is the most prestigious association football tournament in the world, as well as the most widely viewed and followed single sporting event in the world.', 'The cumulative viewership of all matches of the 2006 World Cup was estimated to be 26.29 billion with an estimated 715.1 million people watching the final match, a ninth of the entire population of the planet.17 countries have hosted the World Cup.']\n"
     ]
    }
   ],
   "source": [
    "print(sentences)"
   ]
  },
  {
   "cell_type": "code",
   "execution_count": 8,
   "id": "9795f2dd",
   "metadata": {},
   "outputs": [
    {
     "data": {
      "text/plain": [
       "list"
      ]
     },
     "execution_count": 8,
     "metadata": {},
     "output_type": "execute_result"
    }
   ],
   "source": [
    "type(sentences)"
   ]
  },
  {
   "cell_type": "code",
   "execution_count": 9,
   "id": "7255f4ef",
   "metadata": {},
   "outputs": [
    {
     "data": {
      "text/plain": [
       "10"
      ]
     },
     "execution_count": 9,
     "metadata": {},
     "output_type": "execute_result"
    }
   ],
   "source": [
    "len(sentences)"
   ]
  },
  {
   "cell_type": "markdown",
   "id": "70e88383",
   "metadata": {},
   "source": [
    "There are total 10 sentences in the paragraphs"
   ]
  },
  {
   "cell_type": "code",
   "execution_count": 10,
   "id": "83a1a23f",
   "metadata": {},
   "outputs": [],
   "source": [
    "# Lets convert paragraph into words\n",
    "words = nltk.word_tokenize(paragraph,language=\"english\")"
   ]
  },
  {
   "cell_type": "code",
   "execution_count": 15,
   "id": "f209a0a9",
   "metadata": {},
   "outputs": [],
   "source": [
    "#words"
   ]
  },
  {
   "cell_type": "code",
   "execution_count": 13,
   "id": "930d7dcb",
   "metadata": {},
   "outputs": [
    {
     "data": {
      "text/plain": [
       "list"
      ]
     },
     "execution_count": 13,
     "metadata": {},
     "output_type": "execute_result"
    }
   ],
   "source": [
    "type(words)"
   ]
  },
  {
   "cell_type": "code",
   "execution_count": 14,
   "id": "9bf1eddb",
   "metadata": {},
   "outputs": [
    {
     "data": {
      "text/plain": [
       "305"
      ]
     },
     "execution_count": 14,
     "metadata": {},
     "output_type": "execute_result"
    }
   ],
   "source": [
    "len(words)"
   ]
  }
 ],
 "metadata": {
  "kernelspec": {
   "display_name": "Python 3 (ipykernel)",
   "language": "python",
   "name": "python3"
  },
  "language_info": {
   "codemirror_mode": {
    "name": "ipython",
    "version": 3
   },
   "file_extension": ".py",
   "mimetype": "text/x-python",
   "name": "python",
   "nbconvert_exporter": "python",
   "pygments_lexer": "ipython3",
   "version": "3.8.11"
  }
 },
 "nbformat": 4,
 "nbformat_minor": 5
}
