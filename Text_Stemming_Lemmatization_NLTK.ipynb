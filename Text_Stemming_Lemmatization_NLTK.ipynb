{
 "cells": [
  {
   "cell_type": "code",
   "execution_count": 1,
   "id": "250ecc9a",
   "metadata": {},
   "outputs": [],
   "source": [
    "# Create the text dataset, we will use the wikipedia\n",
    "import wikipedia as wp\n",
    "import nltk\n",
    "from nltk.stem import PorterStemmer\n",
    "from nltk.stem import WordNetLemmatizer\n",
    "import re"
   ]
  },
  {
   "cell_type": "code",
   "execution_count": 2,
   "id": "07ca8433",
   "metadata": {},
   "outputs": [],
   "source": [
    "data = wp.page( ).content"
   ]
  },
  {
   "cell_type": "code",
   "execution_count": 3,
   "id": "65823c6d",
   "metadata": {},
   "outputs": [],
   "source": [
    "# lets print only summary of this page in a new variable \"pargraph\"\n",
    "paragraph = wp.summary(\"FIFA World Cup\",sentences=10)"
   ]
  },
  {
   "cell_type": "code",
   "execution_count": 4,
   "id": "8174a920",
   "metadata": {},
   "outputs": [
    {
     "name": "stdout",
     "output_type": "stream",
     "text": [
      "The FIFA World Cup, often simply called the World Cup, is an international association football competition contested by the senior men's national teams of the members of the Fédération Internationale de Football Association (FIFA), the sport's global governing body. The championship has been awarded every four years since the inaugural tournament in 1930, except in 1942 and 1946 when it was not held because of the Second World War. The current champion is France, which won its second title at the 2018 tournament in Russia.\n",
      "The current format involves a qualification phase, which takes place over the preceding three years, to determine which teams qualify for the tournament phase. In the tournament phase, 32 teams, including the automatically qualifying host nation(s), compete for the title at venues within the host nation(s) over about a month.\n",
      "The 21 World Cup tournaments have been won by eight national teams. Brazil have won five times, and they are the only team to have played in every tournament. The other World Cup winners are Germany and Italy, with four titles each; Argentina, France, and inaugural winner Uruguay, with two titles each; and England and Spain, with one title each.\n",
      "The World Cup is the most prestigious association football tournament in the world, as well as the most widely viewed and followed single sporting event in the world. The cumulative viewership of all matches of the 2006 World Cup was estimated to be 26.29 billion with an estimated 715.1 million people watching the final match, a ninth of the entire population of the planet.17 countries have hosted the World Cup.\n"
     ]
    }
   ],
   "source": [
    "print(paragraph)"
   ]
  },
  {
   "cell_type": "code",
   "execution_count": 5,
   "id": "e24ac684",
   "metadata": {},
   "outputs": [],
   "source": [
    "# Now we will convert complete paragraph into sentences\n",
    "sentences = nltk.sent_tokenize(paragraph,language=\"english\")"
   ]
  },
  {
   "cell_type": "code",
   "execution_count": 6,
   "id": "d65a83a9",
   "metadata": {},
   "outputs": [
    {
     "name": "stdout",
     "output_type": "stream",
     "text": [
      "[\"The FIFA World Cup, often simply called the World Cup, is an international association football competition contested by the senior men's national teams of the members of the Fédération Internationale de Football Association (FIFA), the sport's global governing body.\", 'The championship has been awarded every four years since the inaugural tournament in 1930, except in 1942 and 1946 when it was not held because of the Second World War.', 'The current champion is France, which won its second title at the 2018 tournament in Russia.', 'The current format involves a qualification phase, which takes place over the preceding three years, to determine which teams qualify for the tournament phase.', 'In the tournament phase, 32 teams, including the automatically qualifying host nation(s), compete for the title at venues within the host nation(s) over about a month.', 'The 21 World Cup tournaments have been won by eight national teams.', 'Brazil have won five times, and they are the only team to have played in every tournament.', 'The other World Cup winners are Germany and Italy, with four titles each; Argentina, France, and inaugural winner Uruguay, with two titles each; and England and Spain, with one title each.', 'The World Cup is the most prestigious association football tournament in the world, as well as the most widely viewed and followed single sporting event in the world.', 'The cumulative viewership of all matches of the 2006 World Cup was estimated to be 26.29 billion with an estimated 715.1 million people watching the final match, a ninth of the entire population of the planet.17 countries have hosted the World Cup.']\n"
     ]
    }
   ],
   "source": [
    "print(sentences)"
   ]
  },
  {
   "cell_type": "code",
   "execution_count": 7,
   "id": "7255f4ef",
   "metadata": {},
   "outputs": [
    {
     "data": {
      "text/plain": [
       "10"
      ]
     },
     "execution_count": 7,
     "metadata": {},
     "output_type": "execute_result"
    }
   ],
   "source": [
    "len(sentences)"
   ]
  },
  {
   "cell_type": "markdown",
   "id": "70e88383",
   "metadata": {},
   "source": [
    "There are total 10 sentences in the paragraphs"
   ]
  },
  {
   "cell_type": "code",
   "execution_count": 8,
   "id": "6c230f2e",
   "metadata": {},
   "outputs": [],
   "source": [
    "# Create function to apply the text cleaning(remove characters except alphabat and stopwords) \n",
    "# in complete paragraph and get the words with stemming\n",
    "def clean_words(text):\n",
    "    #convert into lowercase\n",
    "    lower = text.lower()\n",
    "    # remove all the characters excpet alphabat\n",
    "    paragraph = re.sub(\"[^a-zA-Z]\",\" \",lower)\n",
    "    # word tokanization of complete paragraph \n",
    "    token_words = nltk.word_tokenize(paragraph)\n",
    "    # remove the stopwords\n",
    "    words = [w for w in token_words if w not in set(nltk.corpus.stopwords.words('english'))]\n",
    "    return words"
   ]
  },
  {
   "cell_type": "code",
   "execution_count": 9,
   "id": "78c021c7",
   "metadata": {},
   "outputs": [],
   "source": [
    "words = clean_words(paragraph)"
   ]
  },
  {
   "cell_type": "code",
   "execution_count": 10,
   "id": "db6d4215",
   "metadata": {},
   "outputs": [
    {
     "data": {
      "text/plain": [
       "146"
      ]
     },
     "execution_count": 10,
     "metadata": {},
     "output_type": "execute_result"
    }
   ],
   "source": [
    "len(words)"
   ]
  },
  {
   "cell_type": "code",
   "execution_count": 11,
   "id": "30632207",
   "metadata": {},
   "outputs": [],
   "source": [
    "# lets define the stemmer object\n",
    "stemmer = PorterStemmer()"
   ]
  },
  {
   "cell_type": "code",
   "execution_count": 12,
   "id": "abe68a0b",
   "metadata": {},
   "outputs": [],
   "source": [
    "# Create function to apply the stemming in complete paragraph and get the words with stemming\n",
    "def stem_words(text):\n",
    "    #convert into lowercase\n",
    "    lower = text.lower()\n",
    "    # remove all the characters excpet alphabat\n",
    "    paragraph = re.sub(\"[^a-zA-Z]\",\" \",lower)\n",
    "    # word tokanization of complete paragraph \n",
    "    token_words = nltk.word_tokenize(paragraph)\n",
    "    # Apply the stemming and also remove the stopwords\n",
    "    words_stemming = [stemmer.stem(w) for w in token_words if w not in set(nltk.corpus.stopwords.words('english'))]\n",
    "    return words_stemming"
   ]
  },
  {
   "cell_type": "code",
   "execution_count": 13,
   "id": "41af697e",
   "metadata": {},
   "outputs": [],
   "source": [
    "# words in all sentences after stemming\n",
    "stem_words = stem_words(paragraph)"
   ]
  },
  {
   "cell_type": "code",
   "execution_count": 14,
   "id": "4ce412f1",
   "metadata": {},
   "outputs": [
    {
     "data": {
      "text/plain": [
       "146"
      ]
     },
     "execution_count": 14,
     "metadata": {},
     "output_type": "execute_result"
    }
   ],
   "source": [
    "len(stem_words)"
   ]
  },
  {
   "cell_type": "code",
   "execution_count": 15,
   "id": "20d11c56",
   "metadata": {},
   "outputs": [
    {
     "data": {
      "text/plain": [
       "[('fifa', 'fifa'),\n",
       " ('world', 'world'),\n",
       " ('cup', 'cup'),\n",
       " ('often', 'often'),\n",
       " ('simply', 'simpli'),\n",
       " ('called', 'call'),\n",
       " ('world', 'world'),\n",
       " ('cup', 'cup'),\n",
       " ('international', 'intern'),\n",
       " ('association', 'associ'),\n",
       " ('football', 'footbal'),\n",
       " ('competition', 'competit'),\n",
       " ('contested', 'contest'),\n",
       " ('senior', 'senior'),\n",
       " ('men', 'men'),\n",
       " ('national', 'nation'),\n",
       " ('teams', 'team'),\n",
       " ('members', 'member'),\n",
       " ('f', 'f'),\n",
       " ('ration', 'ration'),\n",
       " ('internationale', 'international'),\n",
       " ('de', 'de'),\n",
       " ('football', 'footbal'),\n",
       " ('association', 'associ'),\n",
       " ('fifa', 'fifa'),\n",
       " ('sport', 'sport'),\n",
       " ('global', 'global'),\n",
       " ('governing', 'govern'),\n",
       " ('body', 'bodi'),\n",
       " ('championship', 'championship'),\n",
       " ('awarded', 'award'),\n",
       " ('every', 'everi'),\n",
       " ('four', 'four'),\n",
       " ('years', 'year'),\n",
       " ('since', 'sinc'),\n",
       " ('inaugural', 'inaugur'),\n",
       " ('tournament', 'tournament'),\n",
       " ('except', 'except'),\n",
       " ('held', 'held'),\n",
       " ('second', 'second'),\n",
       " ('world', 'world'),\n",
       " ('war', 'war'),\n",
       " ('current', 'current'),\n",
       " ('champion', 'champion'),\n",
       " ('france', 'franc'),\n",
       " ('second', 'second'),\n",
       " ('title', 'titl'),\n",
       " ('tournament', 'tournament'),\n",
       " ('russia', 'russia'),\n",
       " ('current', 'current'),\n",
       " ('format', 'format'),\n",
       " ('involves', 'involv'),\n",
       " ('qualification', 'qualif'),\n",
       " ('phase', 'phase'),\n",
       " ('takes', 'take'),\n",
       " ('place', 'place'),\n",
       " ('preceding', 'preced'),\n",
       " ('three', 'three'),\n",
       " ('years', 'year'),\n",
       " ('determine', 'determin'),\n",
       " ('teams', 'team'),\n",
       " ('qualify', 'qualifi'),\n",
       " ('tournament', 'tournament'),\n",
       " ('phase', 'phase'),\n",
       " ('tournament', 'tournament'),\n",
       " ('phase', 'phase'),\n",
       " ('teams', 'team'),\n",
       " ('including', 'includ'),\n",
       " ('automatically', 'automat'),\n",
       " ('qualifying', 'qualifi'),\n",
       " ('host', 'host'),\n",
       " ('nation', 'nation'),\n",
       " ('compete', 'compet'),\n",
       " ('title', 'titl'),\n",
       " ('venues', 'venu'),\n",
       " ('within', 'within'),\n",
       " ('host', 'host'),\n",
       " ('nation', 'nation'),\n",
       " ('month', 'month'),\n",
       " ('world', 'world'),\n",
       " ('cup', 'cup'),\n",
       " ('tournaments', 'tournament'),\n",
       " ('eight', 'eight'),\n",
       " ('national', 'nation'),\n",
       " ('teams', 'team'),\n",
       " ('brazil', 'brazil'),\n",
       " ('five', 'five'),\n",
       " ('times', 'time'),\n",
       " ('team', 'team'),\n",
       " ('played', 'play'),\n",
       " ('every', 'everi'),\n",
       " ('tournament', 'tournament'),\n",
       " ('world', 'world'),\n",
       " ('cup', 'cup'),\n",
       " ('winners', 'winner'),\n",
       " ('germany', 'germani'),\n",
       " ('italy', 'itali'),\n",
       " ('four', 'four'),\n",
       " ('titles', 'titl'),\n",
       " ('argentina', 'argentina'),\n",
       " ('france', 'franc'),\n",
       " ('inaugural', 'inaugur'),\n",
       " ('winner', 'winner'),\n",
       " ('uruguay', 'uruguay'),\n",
       " ('two', 'two'),\n",
       " ('titles', 'titl'),\n",
       " ('england', 'england'),\n",
       " ('spain', 'spain'),\n",
       " ('one', 'one'),\n",
       " ('title', 'titl'),\n",
       " ('world', 'world'),\n",
       " ('cup', 'cup'),\n",
       " ('prestigious', 'prestigi'),\n",
       " ('association', 'associ'),\n",
       " ('football', 'footbal'),\n",
       " ('tournament', 'tournament'),\n",
       " ('world', 'world'),\n",
       " ('well', 'well'),\n",
       " ('widely', 'wide'),\n",
       " ('viewed', 'view'),\n",
       " ('followed', 'follow'),\n",
       " ('single', 'singl'),\n",
       " ('sporting', 'sport'),\n",
       " ('event', 'event'),\n",
       " ('world', 'world'),\n",
       " ('cumulative', 'cumul'),\n",
       " ('viewership', 'viewership'),\n",
       " ('matches', 'match'),\n",
       " ('world', 'world'),\n",
       " ('cup', 'cup'),\n",
       " ('estimated', 'estim'),\n",
       " ('billion', 'billion'),\n",
       " ('estimated', 'estim'),\n",
       " ('million', 'million'),\n",
       " ('people', 'peopl'),\n",
       " ('watching', 'watch'),\n",
       " ('final', 'final'),\n",
       " ('match', 'match'),\n",
       " ('ninth', 'ninth'),\n",
       " ('entire', 'entir'),\n",
       " ('population', 'popul'),\n",
       " ('planet', 'planet'),\n",
       " ('countries', 'countri'),\n",
       " ('hosted', 'host'),\n",
       " ('world', 'world'),\n",
       " ('cup', 'cup')]"
      ]
     },
     "execution_count": 15,
     "metadata": {},
     "output_type": "execute_result"
    }
   ],
   "source": [
    "# Lets display the words with stem_words\n",
    "list(zip(words,stem_words))"
   ]
  },
  {
   "cell_type": "code",
   "execution_count": 16,
   "id": "55780516",
   "metadata": {},
   "outputs": [],
   "source": [
    "# define the lemmatization object\n",
    "lemmatizer = WordNetLemmatizer()"
   ]
  },
  {
   "cell_type": "code",
   "execution_count": 18,
   "id": "c40e1a3c",
   "metadata": {},
   "outputs": [],
   "source": [
    "# Lets apply the Lemmatization\n",
    "def lem_words(text):\n",
    "    #convert into lowercase\n",
    "    lower = text.lower()\n",
    "    # remove all the characters excpet alphabat\n",
    "    paragraph = re.sub(\"[^a-zA-Z]\",\" \",lower)\n",
    "    # word tokanization of complete paragraph \n",
    "    token_words = nltk.word_tokenize(paragraph)\n",
    "    # Apply the stemming and also remove the stopwords\n",
    "    words_lemm = [lemmatizer.lemmatize(w) for w in token_words if w not in set(nltk.corpus.stopwords.words('english'))]\n",
    "    return words_lemm"
   ]
  },
  {
   "cell_type": "code",
   "execution_count": 19,
   "id": "0a5b2ae1",
   "metadata": {},
   "outputs": [],
   "source": [
    "# words in all sentences after lemmatization\n",
    "lemmitize_words = lem_words(paragraph)"
   ]
  },
  {
   "cell_type": "code",
   "execution_count": 20,
   "id": "6e5f2e64",
   "metadata": {},
   "outputs": [
    {
     "data": {
      "text/plain": [
       "146"
      ]
     },
     "execution_count": 20,
     "metadata": {},
     "output_type": "execute_result"
    }
   ],
   "source": [
    "len(lemmitize_words)"
   ]
  },
  {
   "cell_type": "code",
   "execution_count": 21,
   "id": "07437726",
   "metadata": {},
   "outputs": [
    {
     "data": {
      "text/plain": [
       "[('fifa', 'fifa'),\n",
       " ('world', 'world'),\n",
       " ('cup', 'cup'),\n",
       " ('often', 'often'),\n",
       " ('simply', 'simply'),\n",
       " ('called', 'called'),\n",
       " ('world', 'world'),\n",
       " ('cup', 'cup'),\n",
       " ('international', 'international'),\n",
       " ('association', 'association'),\n",
       " ('football', 'football'),\n",
       " ('competition', 'competition'),\n",
       " ('contested', 'contested'),\n",
       " ('senior', 'senior'),\n",
       " ('men', 'men'),\n",
       " ('national', 'national'),\n",
       " ('teams', 'team'),\n",
       " ('members', 'member'),\n",
       " ('f', 'f'),\n",
       " ('ration', 'ration'),\n",
       " ('internationale', 'internationale'),\n",
       " ('de', 'de'),\n",
       " ('football', 'football'),\n",
       " ('association', 'association'),\n",
       " ('fifa', 'fifa'),\n",
       " ('sport', 'sport'),\n",
       " ('global', 'global'),\n",
       " ('governing', 'governing'),\n",
       " ('body', 'body'),\n",
       " ('championship', 'championship'),\n",
       " ('awarded', 'awarded'),\n",
       " ('every', 'every'),\n",
       " ('four', 'four'),\n",
       " ('years', 'year'),\n",
       " ('since', 'since'),\n",
       " ('inaugural', 'inaugural'),\n",
       " ('tournament', 'tournament'),\n",
       " ('except', 'except'),\n",
       " ('held', 'held'),\n",
       " ('second', 'second'),\n",
       " ('world', 'world'),\n",
       " ('war', 'war'),\n",
       " ('current', 'current'),\n",
       " ('champion', 'champion'),\n",
       " ('france', 'france'),\n",
       " ('second', 'second'),\n",
       " ('title', 'title'),\n",
       " ('tournament', 'tournament'),\n",
       " ('russia', 'russia'),\n",
       " ('current', 'current'),\n",
       " ('format', 'format'),\n",
       " ('involves', 'involves'),\n",
       " ('qualification', 'qualification'),\n",
       " ('phase', 'phase'),\n",
       " ('takes', 'take'),\n",
       " ('place', 'place'),\n",
       " ('preceding', 'preceding'),\n",
       " ('three', 'three'),\n",
       " ('years', 'year'),\n",
       " ('determine', 'determine'),\n",
       " ('teams', 'team'),\n",
       " ('qualify', 'qualify'),\n",
       " ('tournament', 'tournament'),\n",
       " ('phase', 'phase'),\n",
       " ('tournament', 'tournament'),\n",
       " ('phase', 'phase'),\n",
       " ('teams', 'team'),\n",
       " ('including', 'including'),\n",
       " ('automatically', 'automatically'),\n",
       " ('qualifying', 'qualifying'),\n",
       " ('host', 'host'),\n",
       " ('nation', 'nation'),\n",
       " ('compete', 'compete'),\n",
       " ('title', 'title'),\n",
       " ('venues', 'venue'),\n",
       " ('within', 'within'),\n",
       " ('host', 'host'),\n",
       " ('nation', 'nation'),\n",
       " ('month', 'month'),\n",
       " ('world', 'world'),\n",
       " ('cup', 'cup'),\n",
       " ('tournaments', 'tournament'),\n",
       " ('eight', 'eight'),\n",
       " ('national', 'national'),\n",
       " ('teams', 'team'),\n",
       " ('brazil', 'brazil'),\n",
       " ('five', 'five'),\n",
       " ('times', 'time'),\n",
       " ('team', 'team'),\n",
       " ('played', 'played'),\n",
       " ('every', 'every'),\n",
       " ('tournament', 'tournament'),\n",
       " ('world', 'world'),\n",
       " ('cup', 'cup'),\n",
       " ('winners', 'winner'),\n",
       " ('germany', 'germany'),\n",
       " ('italy', 'italy'),\n",
       " ('four', 'four'),\n",
       " ('titles', 'title'),\n",
       " ('argentina', 'argentina'),\n",
       " ('france', 'france'),\n",
       " ('inaugural', 'inaugural'),\n",
       " ('winner', 'winner'),\n",
       " ('uruguay', 'uruguay'),\n",
       " ('two', 'two'),\n",
       " ('titles', 'title'),\n",
       " ('england', 'england'),\n",
       " ('spain', 'spain'),\n",
       " ('one', 'one'),\n",
       " ('title', 'title'),\n",
       " ('world', 'world'),\n",
       " ('cup', 'cup'),\n",
       " ('prestigious', 'prestigious'),\n",
       " ('association', 'association'),\n",
       " ('football', 'football'),\n",
       " ('tournament', 'tournament'),\n",
       " ('world', 'world'),\n",
       " ('well', 'well'),\n",
       " ('widely', 'widely'),\n",
       " ('viewed', 'viewed'),\n",
       " ('followed', 'followed'),\n",
       " ('single', 'single'),\n",
       " ('sporting', 'sporting'),\n",
       " ('event', 'event'),\n",
       " ('world', 'world'),\n",
       " ('cumulative', 'cumulative'),\n",
       " ('viewership', 'viewership'),\n",
       " ('matches', 'match'),\n",
       " ('world', 'world'),\n",
       " ('cup', 'cup'),\n",
       " ('estimated', 'estimated'),\n",
       " ('billion', 'billion'),\n",
       " ('estimated', 'estimated'),\n",
       " ('million', 'million'),\n",
       " ('people', 'people'),\n",
       " ('watching', 'watching'),\n",
       " ('final', 'final'),\n",
       " ('match', 'match'),\n",
       " ('ninth', 'ninth'),\n",
       " ('entire', 'entire'),\n",
       " ('population', 'population'),\n",
       " ('planet', 'planet'),\n",
       " ('countries', 'country'),\n",
       " ('hosted', 'hosted'),\n",
       " ('world', 'world'),\n",
       " ('cup', 'cup')]"
      ]
     },
     "execution_count": 21,
     "metadata": {},
     "output_type": "execute_result"
    }
   ],
   "source": [
    "# Lets display the words with lemmitize_words\n",
    "list(zip(words,lemmitize_words))"
   ]
  },
  {
   "cell_type": "code",
   "execution_count": null,
   "id": "6f92f858",
   "metadata": {},
   "outputs": [],
   "source": []
  }
 ],
 "metadata": {
  "kernelspec": {
   "display_name": "Python 3 (ipykernel)",
   "language": "python",
   "name": "python3"
  },
  "language_info": {
   "codemirror_mode": {
    "name": "ipython",
    "version": 3
   },
   "file_extension": ".py",
   "mimetype": "text/x-python",
   "name": "python",
   "nbconvert_exporter": "python",
   "pygments_lexer": "ipython3",
   "version": "3.8.11"
  }
 },
 "nbformat": 4,
 "nbformat_minor": 5
}
