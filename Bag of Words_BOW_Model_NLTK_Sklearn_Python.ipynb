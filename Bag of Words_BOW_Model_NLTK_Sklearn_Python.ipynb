{
 "cells": [
  {
   "cell_type": "markdown",
   "id": "88f57f9a",
   "metadata": {},
   "source": [
    "### Bag of Words (BOW) Model\n",
    "\n",
    "In this model, a text is represented as the bag of its words, disregarding grammar and even word order but keeping multiplicity.\n",
    "\n",
    "The BOW model only considers if a known word occurs in a document or not. It does not care about meaning, context, and order in which they appear.\n",
    "\n",
    "The bag-of-words model is commonly used in methods of document classification where the (frequency of) occurrence of each word is used as a feature for training a classifier.\n",
    "\n",
    "Disadvantage is that we are not able to get which word is more important. The BOW model only considers if a known word occurs in a document or not. It does not care about meaning, context, and order in which they appear."
   ]
  },
  {
   "cell_type": "code",
   "execution_count": 1,
   "id": "50263113",
   "metadata": {},
   "outputs": [],
   "source": [
    "import numpy as np\n",
    "import pandas as pd\n",
    "import wikipedia as wp\n",
    "import re\n",
    "import nltk\n",
    "from nltk.corpus import stopwords\n",
    "from nltk.stem import WordNetLemmatizer,PorterStemmer\n",
    "from sklearn.feature_extraction.text import CountVectorizer"
   ]
  },
  {
   "cell_type": "code",
   "execution_count": 2,
   "id": "c479bf30",
   "metadata": {},
   "outputs": [],
   "source": [
    "# Lets create small paragraph for testing\n",
    "test_paragraph = \"Bill travelled to the 'office' for travelled ?. Bill picked up the 'football' there. Bill went to @ the bedroom. Bill gave the football to Fred.\""
   ]
  },
  {
   "cell_type": "code",
   "execution_count": 3,
   "id": "bca67bc9",
   "metadata": {},
   "outputs": [
    {
     "data": {
      "text/plain": [
       "str"
      ]
     },
     "execution_count": 3,
     "metadata": {},
     "output_type": "execute_result"
    }
   ],
   "source": [
    "type(test_paragraph)"
   ]
  },
  {
   "cell_type": "code",
   "execution_count": 4,
   "id": "3ea3fe87",
   "metadata": {},
   "outputs": [],
   "source": [
    "# Can we get the answer of the question \"What did Bill give to Fred?\" by using the BOW model ?\n",
    "# Answer is football\n",
    "# Lets apply the model"
   ]
  },
  {
   "cell_type": "code",
   "execution_count": 5,
   "id": "0bdd707a",
   "metadata": {},
   "outputs": [],
   "source": [
    "# Lets first convert paragraph into sentences\n",
    "test_sentences = nltk.sent_tokenize(test_paragraph)"
   ]
  },
  {
   "cell_type": "code",
   "execution_count": 6,
   "id": "986fd25c",
   "metadata": {},
   "outputs": [
    {
     "data": {
      "text/plain": [
       "[\"Bill travelled to the 'office' for travelled ?.\",\n",
       " \"Bill picked up the 'football' there.\",\n",
       " 'Bill went to @ the bedroom.',\n",
       " 'Bill gave the football to Fred.']"
      ]
     },
     "execution_count": 6,
     "metadata": {},
     "output_type": "execute_result"
    }
   ],
   "source": [
    "test_sentences"
   ]
  },
  {
   "cell_type": "code",
   "execution_count": 7,
   "id": "4e964bdf",
   "metadata": {},
   "outputs": [
    {
     "data": {
      "text/plain": [
       "4"
      ]
     },
     "execution_count": 7,
     "metadata": {},
     "output_type": "execute_result"
    }
   ],
   "source": [
    "len(test_sentences)"
   ]
  },
  {
   "cell_type": "code",
   "execution_count": 8,
   "id": "02535d95",
   "metadata": {},
   "outputs": [],
   "source": [
    "# Clean the sentences\n",
    "# Remove the usefullness characters sentence by sentence\n",
    "test_sentences_clean = []\n",
    "for i in range(len(test_sentences)):\n",
    "    test_sentences1 = re.sub(\"[^0-9a-zA-Z]+\",' ',test_sentences[i]) # remove all the words excpet alphanemeric\n",
    "    test_sentences2 = test_sentences1.lower().split() # lower and then split the sentences in the words\n",
    "    test_sentences3 = [w for w in test_sentences2 if w not in set(stopwords.words('english'))] # remove stopwords\n",
    "    test_sentences4 = list(set(test_sentences3)) # remove duplicate in sentences\n",
    "    test_sentences5 = ' '.join(test_sentences4)\n",
    "    test_sentences_clean.append(test_sentences5)"
   ]
  },
  {
   "cell_type": "code",
   "execution_count": 9,
   "id": "f7b1027b",
   "metadata": {},
   "outputs": [],
   "source": [
    "# Check the distinct words in paragraph after cleaning\n",
    "# Build vocabulary\n",
    "def test_words_clean(paragraph):\n",
    "    test_words1 = re.sub(\"[^0-9a-zA-Z]+\",' ',paragraph)\n",
    "    test_words2 = test_words1.lower().split()\n",
    "    test_words3 = [w for w in test_words2 if w not in set(stopwords.words('english'))]\n",
    "    test_words4 = list(set(test_words3))\n",
    "    return test_words4"
   ]
  },
  {
   "cell_type": "code",
   "execution_count": 10,
   "id": "e532e967",
   "metadata": {},
   "outputs": [],
   "source": [
    "# Vocabulary Size\n",
    "test_words_clean = test_words_clean(test_paragraph)"
   ]
  },
  {
   "cell_type": "code",
   "execution_count": 11,
   "id": "b7f4569e",
   "metadata": {},
   "outputs": [
    {
     "data": {
      "text/plain": [
       "['travelled',\n",
       " 'picked',\n",
       " 'bedroom',\n",
       " 'fred',\n",
       " 'football',\n",
       " 'gave',\n",
       " 'office',\n",
       " 'went',\n",
       " 'bill']"
      ]
     },
     "execution_count": 11,
     "metadata": {},
     "output_type": "execute_result"
    }
   ],
   "source": [
    "test_words_clean"
   ]
  },
  {
   "cell_type": "code",
   "execution_count": 12,
   "id": "a48d8d7d",
   "metadata": {},
   "outputs": [
    {
     "data": {
      "text/plain": [
       "['travelled bill office',\n",
       " 'football bill picked',\n",
       " 'went bill bedroom',\n",
       " 'gave bill football fred']"
      ]
     },
     "execution_count": 12,
     "metadata": {},
     "output_type": "execute_result"
    }
   ],
   "source": [
    "test_sentences_clean"
   ]
  },
  {
   "cell_type": "code",
   "execution_count": 13,
   "id": "994067e0",
   "metadata": {},
   "outputs": [],
   "source": [
    "# Lrts apply the BOW model\n",
    "bow_test = CountVectorizer()"
   ]
  },
  {
   "cell_type": "code",
   "execution_count": 14,
   "id": "38350966",
   "metadata": {},
   "outputs": [],
   "source": [
    "# Now train our clean test sentences with BOW\n",
    "# Covert into clean test sentences into Matrix of Token Counts\n",
    "X_test = bow_test.fit_transform(test_sentences_clean).toarray()"
   ]
  },
  {
   "cell_type": "code",
   "execution_count": 15,
   "id": "5c352dd7",
   "metadata": {},
   "outputs": [
    {
     "data": {
      "text/plain": [
       "numpy.ndarray"
      ]
     },
     "execution_count": 15,
     "metadata": {},
     "output_type": "execute_result"
    }
   ],
   "source": [
    "type(X_test)"
   ]
  },
  {
   "cell_type": "code",
   "execution_count": 16,
   "id": "43a045a9",
   "metadata": {},
   "outputs": [
    {
     "data": {
      "text/plain": [
       "(4, 9)"
      ]
     },
     "execution_count": 16,
     "metadata": {},
     "output_type": "execute_result"
    }
   ],
   "source": [
    "X_test.shape"
   ]
  },
  {
   "cell_type": "code",
   "execution_count": 17,
   "id": "93aa495e",
   "metadata": {},
   "outputs": [
    {
     "name": "stdout",
     "output_type": "stream",
     "text": [
      "[[0 1 0 0 0 1 0 1 0]\n",
      " [0 1 1 0 0 0 1 0 0]\n",
      " [1 1 0 0 0 0 0 0 1]\n",
      " [0 1 1 1 1 0 0 0 0]]\n"
     ]
    }
   ],
   "source": [
    "print(X_test)"
   ]
  },
  {
   "cell_type": "code",
   "execution_count": 18,
   "id": "1524d7cc",
   "metadata": {},
   "outputs": [
    {
     "data": {
      "text/plain": [
       "['bedroom',\n",
       " 'bill',\n",
       " 'football',\n",
       " 'fred',\n",
       " 'gave',\n",
       " 'office',\n",
       " 'picked',\n",
       " 'travelled',\n",
       " 'went']"
      ]
     },
     "execution_count": 18,
     "metadata": {},
     "output_type": "execute_result"
    }
   ],
   "source": [
    "features = bow_test.get_feature_names()\n",
    "features"
   ]
  },
  {
   "cell_type": "code",
   "execution_count": 19,
   "id": "df5c7dac",
   "metadata": {},
   "outputs": [],
   "source": [
    "df_test = pd.DataFrame(X_test,columns=features)"
   ]
  },
  {
   "cell_type": "code",
   "execution_count": 20,
   "id": "149e9edb",
   "metadata": {},
   "outputs": [
    {
     "data": {
      "text/html": [
       "<div>\n",
       "<style scoped>\n",
       "    .dataframe tbody tr th:only-of-type {\n",
       "        vertical-align: middle;\n",
       "    }\n",
       "\n",
       "    .dataframe tbody tr th {\n",
       "        vertical-align: top;\n",
       "    }\n",
       "\n",
       "    .dataframe thead th {\n",
       "        text-align: right;\n",
       "    }\n",
       "</style>\n",
       "<table border=\"1\" class=\"dataframe\">\n",
       "  <thead>\n",
       "    <tr style=\"text-align: right;\">\n",
       "      <th></th>\n",
       "      <th>bedroom</th>\n",
       "      <th>bill</th>\n",
       "      <th>football</th>\n",
       "      <th>fred</th>\n",
       "      <th>gave</th>\n",
       "      <th>office</th>\n",
       "      <th>picked</th>\n",
       "      <th>travelled</th>\n",
       "      <th>went</th>\n",
       "    </tr>\n",
       "  </thead>\n",
       "  <tbody>\n",
       "    <tr>\n",
       "      <th>0</th>\n",
       "      <td>0</td>\n",
       "      <td>1</td>\n",
       "      <td>0</td>\n",
       "      <td>0</td>\n",
       "      <td>0</td>\n",
       "      <td>1</td>\n",
       "      <td>0</td>\n",
       "      <td>1</td>\n",
       "      <td>0</td>\n",
       "    </tr>\n",
       "    <tr>\n",
       "      <th>1</th>\n",
       "      <td>0</td>\n",
       "      <td>1</td>\n",
       "      <td>1</td>\n",
       "      <td>0</td>\n",
       "      <td>0</td>\n",
       "      <td>0</td>\n",
       "      <td>1</td>\n",
       "      <td>0</td>\n",
       "      <td>0</td>\n",
       "    </tr>\n",
       "    <tr>\n",
       "      <th>2</th>\n",
       "      <td>1</td>\n",
       "      <td>1</td>\n",
       "      <td>0</td>\n",
       "      <td>0</td>\n",
       "      <td>0</td>\n",
       "      <td>0</td>\n",
       "      <td>0</td>\n",
       "      <td>0</td>\n",
       "      <td>1</td>\n",
       "    </tr>\n",
       "    <tr>\n",
       "      <th>3</th>\n",
       "      <td>0</td>\n",
       "      <td>1</td>\n",
       "      <td>1</td>\n",
       "      <td>1</td>\n",
       "      <td>1</td>\n",
       "      <td>0</td>\n",
       "      <td>0</td>\n",
       "      <td>0</td>\n",
       "      <td>0</td>\n",
       "    </tr>\n",
       "  </tbody>\n",
       "</table>\n",
       "</div>"
      ],
      "text/plain": [
       "   bedroom  bill  football  fred  gave  office  picked  travelled  went\n",
       "0        0     1         0     0     0       1       0          1     0\n",
       "1        0     1         1     0     0       0       1          0     0\n",
       "2        1     1         0     0     0       0       0          0     1\n",
       "3        0     1         1     1     1       0       0          0     0"
      ]
     },
     "execution_count": 20,
     "metadata": {},
     "output_type": "execute_result"
    }
   ],
   "source": [
    "df_test"
   ]
  },
  {
   "cell_type": "markdown",
   "id": "1512775b",
   "metadata": {},
   "source": [
    "The length of the vector(X_test.shape[1]) will always be equal to vocabulary size(\"test_words_clean\")"
   ]
  },
  {
   "cell_type": "code",
   "execution_count": 21,
   "id": "e680f296",
   "metadata": {},
   "outputs": [
    {
     "data": {
      "text/plain": [
       "['travelled bill office',\n",
       " 'football bill picked',\n",
       " 'went bill bedroom',\n",
       " 'gave bill football fred']"
      ]
     },
     "execution_count": 21,
     "metadata": {},
     "output_type": "execute_result"
    }
   ],
   "source": [
    "test_sentences_clean"
   ]
  },
  {
   "cell_type": "markdown",
   "id": "d089c7ec",
   "metadata": {},
   "source": [
    "Limitations of BOW\n",
    "\n",
    "We can clearly see from the above df_test that our paragraph is cleally well tokenised but there are some disadvantages if we use this to train the ML model. If you see all the words are marked with 1 so we can not say which words have more weightages\n",
    "in the paragraphs.\n",
    "\n",
    "\n",
    "Semantic meaning: the basic BOW approach does not consider the meaning of the word in the document. It completely ignores the context in which it’s used. The same word can be used in multiple places based on the context or nearby words.\n",
    "\n",
    "Vector size: For a large document, the vector size can be huge resulting in a lot of computation and time. You may need to ignore words based on relevance to your use case."
   ]
  },
  {
   "cell_type": "code",
   "execution_count": 22,
   "id": "5f542350",
   "metadata": {},
   "outputs": [],
   "source": [
    "# Ltes use the wikipedia page\n",
    "paragraph = wp.summary(\"FIFA World Cup\",sentences=10)"
   ]
  },
  {
   "cell_type": "code",
   "execution_count": 23,
   "id": "371d687a",
   "metadata": {},
   "outputs": [
    {
     "data": {
      "text/plain": [
       "\"The FIFA World Cup, often simply called the World Cup, is an international association football competition contested by the senior men's national teams of the members of the Fédération Internationale de Football Association (FIFA), the sport's global governing body. The championship has been awarded every four years since the inaugural tournament in 1930, except in 1942 and 1946 when it was not held because of the Second World War. The current champion is France, which won its second title at the 2018 tournament in Russia.\\nThe current format involves a qualification phase, which takes place over the preceding three years, to determine which teams qualify for the tournament phase. In the tournament phase, 32 teams, including the automatically qualifying host nation(s), compete for the title at venues within the host nation(s) over about a month.\\nThe 21 World Cup tournaments have been won by eight national teams. Brazil have won five times, and they are the only team to have played in every tournament. The other World Cup winners are Germany and Italy, with four titles each; Argentina, France, and inaugural winner Uruguay, with two titles each; and England and Spain, with one title each.\\nThe World Cup is the most prestigious association football tournament in the world, as well as the most widely viewed and followed single sporting event in the world. The cumulative viewership of all matches of the 2006 World Cup was estimated to be 26.29 billion with an estimated 715.1 million people watching the final match, a ninth of the entire population of the planet.17 countries have hosted the World Cup.\""
      ]
     },
     "execution_count": 23,
     "metadata": {},
     "output_type": "execute_result"
    }
   ],
   "source": [
    "paragraph"
   ]
  },
  {
   "cell_type": "code",
   "execution_count": 24,
   "id": "4a560712",
   "metadata": {},
   "outputs": [
    {
     "data": {
      "text/plain": [
       "str"
      ]
     },
     "execution_count": 24,
     "metadata": {},
     "output_type": "execute_result"
    }
   ],
   "source": [
    "type(paragraph)"
   ]
  },
  {
   "cell_type": "code",
   "execution_count": 25,
   "id": "4e64aa3c",
   "metadata": {},
   "outputs": [
    {
     "data": {
      "text/plain": [
       "10"
      ]
     },
     "execution_count": 25,
     "metadata": {},
     "output_type": "execute_result"
    }
   ],
   "source": [
    "# Lets convert paragraph in to sentences\n",
    "sentence = nltk.sent_tokenize(paragraph)\n",
    "len(sentence)"
   ]
  },
  {
   "cell_type": "code",
   "execution_count": 26,
   "id": "72b9d17f",
   "metadata": {},
   "outputs": [],
   "source": [
    "# Create function to apply the text cleaning(remove characters except alphabat and stopwords) \n",
    "# in complete paragraph and get the words with stemming\n",
    "def clean_words(text):\n",
    "    #convert into lowercase\n",
    "    lower = text.lower()\n",
    "    # remove all the characters excpet alphabat\n",
    "    paragraph = re.sub(\"[^0-9a-zA-Z]+\",\" \",lower)\n",
    "    # word tokanization of complete paragraph \n",
    "    token_words = nltk.word_tokenize(paragraph)\n",
    "    # remove the stopwords\n",
    "    words = [w for w in token_words if w not in set(nltk.corpus.stopwords.words('english'))]\n",
    "    # reemove the duplicate words\n",
    "    clean_words = list(set(words))\n",
    "    return clean_words"
   ]
  },
  {
   "cell_type": "code",
   "execution_count": 27,
   "id": "de45424a",
   "metadata": {},
   "outputs": [],
   "source": [
    "#https://www.freecodecamp.org/news/an-introduction-to-bag-of-words-and-how-to-code-it-in-python-for-nlp-282e87a9da04/"
   ]
  },
  {
   "cell_type": "code",
   "execution_count": 28,
   "id": "7e753cde",
   "metadata": {},
   "outputs": [],
   "source": [
    "clean_words = clean_words(paragraph)"
   ]
  },
  {
   "cell_type": "code",
   "execution_count": 29,
   "id": "30887b04",
   "metadata": {},
   "outputs": [
    {
     "data": {
      "text/plain": [
       "114"
      ]
     },
     "execution_count": 29,
     "metadata": {},
     "output_type": "execute_result"
    }
   ],
   "source": [
    "len(clean_words)"
   ]
  },
  {
   "cell_type": "code",
   "execution_count": 30,
   "id": "a6946a72",
   "metadata": {},
   "outputs": [],
   "source": [
    "# Let clean sentences\n",
    "clean_sentences = []\n",
    "clean_word_each_sentence = []\n",
    "for i in range(len(sentence)):\n",
    "    clean = re.sub(\"[^0-9a-zA-Z]+\",\" \",sentence[i])\n",
    "    lower = clean.lower()\n",
    "    split = lower.split()\n",
    "    stop = [w for w in split if not w in set(stopwords.words('english'))]\n",
    "    duplicate_remove = list(set(stop))\n",
    "    clean_word_each_sentence.append(duplicate_remove)\n",
    "    word = ' '.join(duplicate_remove)\n",
    "    clean_sentences.append(word)"
   ]
  },
  {
   "cell_type": "code",
   "execution_count": 31,
   "id": "7e3caa2d",
   "metadata": {},
   "outputs": [
    {
     "data": {
      "text/plain": [
       "10"
      ]
     },
     "execution_count": 31,
     "metadata": {},
     "output_type": "execute_result"
    }
   ],
   "source": [
    "len(clean_word_each_sentence)"
   ]
  },
  {
   "cell_type": "code",
   "execution_count": 32,
   "id": "c146e214",
   "metadata": {},
   "outputs": [],
   "source": [
    "l = clean_word_each_sentence\n",
    "dupes = []\n",
    "flat = [item for sublist in l for item in sublist]\n",
    "for f in flat:\n",
    "    if flat.count(f) > 1:\n",
    "        if f not in dupes:\n",
    "            dupes.append(f)"
   ]
  },
  {
   "cell_type": "code",
   "execution_count": 33,
   "id": "fc16cb75",
   "metadata": {},
   "outputs": [
    {
     "data": {
      "text/plain": [
       "144"
      ]
     },
     "execution_count": 33,
     "metadata": {},
     "output_type": "execute_result"
    }
   ],
   "source": [
    "len(flat)"
   ]
  },
  {
   "cell_type": "code",
   "execution_count": 34,
   "id": "2253187c",
   "metadata": {},
   "outputs": [
    {
     "data": {
      "text/plain": [
       "16"
      ]
     },
     "execution_count": 34,
     "metadata": {},
     "output_type": "execute_result"
    }
   ],
   "source": [
    "len(dupes)"
   ]
  },
  {
   "cell_type": "code",
   "execution_count": 35,
   "id": "d9050427",
   "metadata": {},
   "outputs": [],
   "source": [
    "cleaned = [word for word in flat if word not in dupes] \n",
    "for i in dupes:\n",
    "    cleaned.append(i)"
   ]
  },
  {
   "cell_type": "code",
   "execution_count": 36,
   "id": "b95b0377",
   "metadata": {},
   "outputs": [
    {
     "data": {
      "text/plain": [
       "114"
      ]
     },
     "execution_count": 36,
     "metadata": {},
     "output_type": "execute_result"
    }
   ],
   "source": [
    "len(cleaned)"
   ]
  },
  {
   "cell_type": "code",
   "execution_count": 37,
   "id": "c07fe23e",
   "metadata": {},
   "outputs": [],
   "source": [
    "c = sorted(cleaned)\n",
    "d  = sorted(clean_words)"
   ]
  },
  {
   "cell_type": "code",
   "execution_count": 38,
   "id": "51aa2e02",
   "metadata": {},
   "outputs": [
    {
     "name": "stdout",
     "output_type": "stream",
     "text": [
      "[('1', '1'), ('17', '17'), ('1930', '1930'), ('1942', '1942'), ('1946', '1946'), ('2006', '2006'), ('2018', '2018'), ('21', '21'), ('26', '26'), ('29', '29'), ('32', '32'), ('715', '715'), ('argentina', 'argentina'), ('association', 'association'), ('automatically', 'automatically'), ('awarded', 'awarded'), ('billion', 'billion'), ('body', 'body'), ('brazil', 'brazil'), ('called', 'called'), ('champion', 'champion'), ('championship', 'championship'), ('compete', 'compete'), ('competition', 'competition'), ('contested', 'contested'), ('countries', 'countries'), ('cumulative', 'cumulative'), ('cup', 'cup'), ('current', 'current'), ('de', 'de'), ('determine', 'determine'), ('eight', 'eight'), ('england', 'england'), ('entire', 'entire'), ('estimated', 'estimated'), ('event', 'event'), ('every', 'every'), ('except', 'except'), ('f', 'f'), ('fifa', 'fifa'), ('final', 'final'), ('five', 'five'), ('followed', 'followed'), ('football', 'football'), ('format', 'format'), ('four', 'four'), ('france', 'france'), ('germany', 'germany'), ('global', 'global'), ('governing', 'governing'), ('held', 'held'), ('host', 'host'), ('hosted', 'hosted'), ('inaugural', 'inaugural'), ('including', 'including'), ('international', 'international'), ('internationale', 'internationale'), ('involves', 'involves'), ('italy', 'italy'), ('match', 'match'), ('matches', 'matches'), ('members', 'members'), ('men', 'men'), ('million', 'million'), ('month', 'month'), ('nation', 'nation'), ('national', 'national'), ('ninth', 'ninth'), ('often', 'often'), ('one', 'one'), ('people', 'people'), ('phase', 'phase'), ('place', 'place'), ('planet', 'planet'), ('played', 'played'), ('population', 'population'), ('preceding', 'preceding'), ('prestigious', 'prestigious'), ('qualification', 'qualification'), ('qualify', 'qualify'), ('qualifying', 'qualifying'), ('ration', 'ration'), ('russia', 'russia'), ('second', 'second'), ('senior', 'senior'), ('simply', 'simply'), ('since', 'since'), ('single', 'single'), ('spain', 'spain'), ('sport', 'sport'), ('sporting', 'sporting'), ('takes', 'takes'), ('team', 'team'), ('teams', 'teams'), ('three', 'three'), ('times', 'times'), ('title', 'title'), ('titles', 'titles'), ('tournament', 'tournament'), ('tournaments', 'tournaments'), ('two', 'two'), ('uruguay', 'uruguay'), ('venues', 'venues'), ('viewed', 'viewed'), ('viewership', 'viewership'), ('war', 'war'), ('watching', 'watching'), ('well', 'well'), ('widely', 'widely'), ('winner', 'winner'), ('winners', 'winners'), ('within', 'within'), ('world', 'world'), ('years', 'years')]\n"
     ]
    }
   ],
   "source": [
    "print(list(zip(c,d)))"
   ]
  },
  {
   "cell_type": "code",
   "execution_count": 39,
   "id": "8f900f55",
   "metadata": {},
   "outputs": [
    {
     "data": {
      "text/plain": [
       "['senior cup football global f often contested members governing body internationale de ration men world association called fifa teams simply sport national competition international',\n",
       " 'years second inaugural 1942 four every held since 1930 tournament war 1946 world championship except awarded',\n",
       " 'second current 2018 title france russia tournament champion',\n",
       " 'years current takes phase qualify place qualification involves tournament preceding determine three format teams',\n",
       " 'within phase month title automatically venues 32 compete tournament qualifying nation including teams host',\n",
       " '21 cup national eight tournaments teams world',\n",
       " 'team every times played brazil tournament five',\n",
       " 'uruguay winner inaugural one cup title four italy france winners argentina spain titles two world england germany',\n",
       " 'association prestigious well cup widely followed football sporting tournament event single viewed world',\n",
       " '715 entire 17 match cup million matches 2006 people 26 ninth 1 world viewership population countries cumulative 29 hosted billion final planet estimated watching']"
      ]
     },
     "execution_count": 39,
     "metadata": {},
     "output_type": "execute_result"
    }
   ],
   "source": [
    "clean_sentences"
   ]
  },
  {
   "cell_type": "code",
   "execution_count": 40,
   "id": "1716823c",
   "metadata": {},
   "outputs": [
    {
     "data": {
      "text/plain": [
       "10"
      ]
     },
     "execution_count": 40,
     "metadata": {},
     "output_type": "execute_result"
    }
   ],
   "source": [
    "len(clean_sentences)"
   ]
  },
  {
   "cell_type": "code",
   "execution_count": 41,
   "id": "f53c31f4",
   "metadata": {},
   "outputs": [
    {
     "data": {
      "text/plain": [
       "['senior',\n",
       " 'cup',\n",
       " 'football',\n",
       " 'global',\n",
       " 'f',\n",
       " 'often',\n",
       " 'contested',\n",
       " 'members',\n",
       " 'governing',\n",
       " 'body',\n",
       " 'internationale',\n",
       " 'de',\n",
       " 'ration',\n",
       " 'men',\n",
       " 'world',\n",
       " 'association',\n",
       " 'called',\n",
       " 'fifa',\n",
       " 'teams',\n",
       " 'simply',\n",
       " 'sport',\n",
       " 'national',\n",
       " 'competition',\n",
       " 'international']"
      ]
     },
     "execution_count": 41,
     "metadata": {},
     "output_type": "execute_result"
    }
   ],
   "source": [
    "clean_word_each_sentence[0]"
   ]
  },
  {
   "cell_type": "code",
   "execution_count": 42,
   "id": "42846247",
   "metadata": {},
   "outputs": [
    {
     "data": {
      "text/plain": [
       "24"
      ]
     },
     "execution_count": 42,
     "metadata": {},
     "output_type": "execute_result"
    }
   ],
   "source": [
    "len(clean_word_each_sentence[0])"
   ]
  },
  {
   "cell_type": "code",
   "execution_count": 43,
   "id": "378f6c18",
   "metadata": {},
   "outputs": [],
   "source": [
    "leng_each_sent = []\n",
    "for i in range(len(clean_word_each_sentence)):\n",
    "    leng = len(clean_word_each_sentence[i])\n",
    "    leng_each_sent.append(leng)"
   ]
  },
  {
   "cell_type": "code",
   "execution_count": 44,
   "id": "4ad8661d",
   "metadata": {},
   "outputs": [
    {
     "data": {
      "text/plain": [
       "144"
      ]
     },
     "execution_count": 44,
     "metadata": {},
     "output_type": "execute_result"
    }
   ],
   "source": [
    "sent_words_lenght = sum(leng_each_sent)\n",
    "sent_words_lenght"
   ]
  },
  {
   "cell_type": "code",
   "execution_count": 45,
   "id": "bdbe578b",
   "metadata": {},
   "outputs": [],
   "source": [
    "# lets create the Bag of Words Model\n",
    "bow = CountVectorizer(token_pattern='(?u)[0-9a-zA-Z]+',stop_words=set(stopwords.words('english')))"
   ]
  },
  {
   "cell_type": "code",
   "execution_count": 46,
   "id": "f1dd6dde",
   "metadata": {},
   "outputs": [],
   "source": [
    "Xt = bow.fit_transform(clean_sentences).toarray()"
   ]
  },
  {
   "cell_type": "code",
   "execution_count": 47,
   "id": "403f3cda",
   "metadata": {},
   "outputs": [
    {
     "data": {
      "text/plain": [
       "(10, 114)"
      ]
     },
     "execution_count": 47,
     "metadata": {},
     "output_type": "execute_result"
    }
   ],
   "source": [
    "Xt.shape"
   ]
  },
  {
   "cell_type": "code",
   "execution_count": 48,
   "id": "aa1070cb",
   "metadata": {},
   "outputs": [],
   "source": [
    "# Convert a collection of text documents to a matrix of token counts\n",
    "# This implementation produces a sparse representation of the counts\n",
    "X = bow.fit_transform(sentence).toarray()"
   ]
  },
  {
   "cell_type": "code",
   "execution_count": 49,
   "id": "7d240bb6",
   "metadata": {},
   "outputs": [
    {
     "data": {
      "text/plain": [
       "(10, 114)"
      ]
     },
     "execution_count": 49,
     "metadata": {},
     "output_type": "execute_result"
    }
   ],
   "source": [
    "X.shape\n",
    "# There are 10 sentences and total unique words which will be work as features to train the classification model"
   ]
  },
  {
   "cell_type": "code",
   "execution_count": 50,
   "id": "abe96772",
   "metadata": {},
   "outputs": [
    {
     "data": {
      "text/plain": [
       "array([[0, 0, 0, ..., 0, 2, 0],\n",
       "       [0, 0, 1, ..., 0, 1, 1],\n",
       "       [0, 0, 0, ..., 0, 0, 0],\n",
       "       ...,\n",
       "       [0, 0, 0, ..., 0, 1, 0],\n",
       "       [0, 0, 0, ..., 0, 3, 0],\n",
       "       [1, 1, 0, ..., 0, 2, 0]], dtype=int64)"
      ]
     },
     "execution_count": 50,
     "metadata": {},
     "output_type": "execute_result"
    }
   ],
   "source": [
    "X"
   ]
  },
  {
   "cell_type": "code",
   "execution_count": 51,
   "id": "35352f58",
   "metadata": {},
   "outputs": [
    {
     "data": {
      "text/plain": [
       "array([[0, 0, 0, 0, 0, 0, 0, 0, 0, 0, 0, 0, 0, 2, 0, 0, 0, 1, 0, 1, 0, 0,\n",
       "        0, 1, 1, 0, 0, 2, 0, 1, 0, 0, 0, 0, 0, 0, 0, 0, 1, 2, 0, 0, 0, 2,\n",
       "        0, 0, 0, 0, 1, 1, 0, 0, 0, 0, 0, 1, 1, 0, 0, 0, 0, 1, 1, 0, 0, 0,\n",
       "        1, 0, 1, 0, 0, 0, 0, 0, 0, 0, 0, 0, 0, 0, 0, 1, 0, 0, 1, 1, 0, 0,\n",
       "        0, 1, 0, 0, 0, 1, 0, 0, 0, 0, 0, 0, 0, 0, 0, 0, 0, 0, 0, 0, 0, 0,\n",
       "        0, 0, 2, 0]], dtype=int64)"
      ]
     },
     "execution_count": 51,
     "metadata": {},
     "output_type": "execute_result"
    }
   ],
   "source": [
    "X[0:1,:]"
   ]
  },
  {
   "cell_type": "code",
   "execution_count": 52,
   "id": "d3122a31",
   "metadata": {},
   "outputs": [
    {
     "data": {
      "text/plain": [
       "\"The FIFA World Cup, often simply called the World Cup, is an international association football competition contested by the senior men's national teams of the members of the Fédération Internationale de Football Association (FIFA), the sport's global governing body.\""
      ]
     },
     "execution_count": 52,
     "metadata": {},
     "output_type": "execute_result"
    }
   ],
   "source": [
    "sentence[0]"
   ]
  },
  {
   "cell_type": "code",
   "execution_count": 53,
   "id": "18145205",
   "metadata": {},
   "outputs": [
    {
     "data": {
      "text/plain": [
       "'senior cup football global f often contested members governing body internationale de ration men world association called fifa teams simply sport national competition international'"
      ]
     },
     "execution_count": 53,
     "metadata": {},
     "output_type": "execute_result"
    }
   ],
   "source": [
    "clean_sentences[0]"
   ]
  },
  {
   "cell_type": "code",
   "execution_count": 54,
   "id": "0a4be2fe",
   "metadata": {},
   "outputs": [
    {
     "data": {
      "text/plain": [
       "24"
      ]
     },
     "execution_count": 54,
     "metadata": {},
     "output_type": "execute_result"
    }
   ],
   "source": [
    "leng_each_sent[0]"
   ]
  },
  {
   "cell_type": "code",
   "execution_count": 55,
   "id": "76ea3c99",
   "metadata": {},
   "outputs": [],
   "source": [
    "features = bow.get_feature_names()"
   ]
  },
  {
   "cell_type": "code",
   "execution_count": 56,
   "id": "69fad9f1",
   "metadata": {},
   "outputs": [
    {
     "data": {
      "text/plain": [
       "list"
      ]
     },
     "execution_count": 56,
     "metadata": {},
     "output_type": "execute_result"
    }
   ],
   "source": [
    "type(features)"
   ]
  },
  {
   "cell_type": "code",
   "execution_count": 57,
   "id": "5a429428",
   "metadata": {},
   "outputs": [
    {
     "data": {
      "text/plain": [
       "114"
      ]
     },
     "execution_count": 57,
     "metadata": {},
     "output_type": "execute_result"
    }
   ],
   "source": [
    "len(features)"
   ]
  },
  {
   "cell_type": "code",
   "execution_count": 58,
   "id": "012db27a",
   "metadata": {},
   "outputs": [],
   "source": [
    "a = features\n",
    "b  = sorted(clean_words)"
   ]
  },
  {
   "cell_type": "code",
   "execution_count": 59,
   "id": "ebd88b50",
   "metadata": {},
   "outputs": [
    {
     "data": {
      "text/plain": [
       "[('1', '1', '1', '1'),\n",
       " ('17', '17', '17', '17'),\n",
       " ('1930', '1930', '1930', '1930'),\n",
       " ('1942', '1942', '1942', '1942'),\n",
       " ('1946', '1946', '1946', '1946'),\n",
       " ('2006', '2006', '2006', '2006'),\n",
       " ('2018', '2018', '2018', '2018'),\n",
       " ('21', '21', '21', '21'),\n",
       " ('26', '26', '26', '26'),\n",
       " ('29', '29', '29', '29'),\n",
       " ('32', '32', '32', '32'),\n",
       " ('715', '715', '715', '715'),\n",
       " ('argentina', 'argentina', 'argentina', 'argentina'),\n",
       " ('association', 'association', 'association', 'association'),\n",
       " ('automatically', 'automatically', 'automatically', 'automatically'),\n",
       " ('awarded', 'awarded', 'awarded', 'awarded'),\n",
       " ('billion', 'billion', 'billion', 'billion'),\n",
       " ('body', 'body', 'body', 'body'),\n",
       " ('brazil', 'brazil', 'brazil', 'brazil'),\n",
       " ('called', 'called', 'called', 'called'),\n",
       " ('champion', 'champion', 'champion', 'champion'),\n",
       " ('championship', 'championship', 'championship', 'championship'),\n",
       " ('compete', 'compete', 'compete', 'compete'),\n",
       " ('competition', 'competition', 'competition', 'competition'),\n",
       " ('contested', 'contested', 'contested', 'contested'),\n",
       " ('countries', 'countries', 'countries', 'countries'),\n",
       " ('cumulative', 'cumulative', 'cumulative', 'cumulative'),\n",
       " ('cup', 'cup', 'cup', 'cup'),\n",
       " ('current', 'current', 'current', 'current'),\n",
       " ('de', 'de', 'de', 'de'),\n",
       " ('determine', 'determine', 'determine', 'determine'),\n",
       " ('eight', 'eight', 'eight', 'eight'),\n",
       " ('england', 'england', 'england', 'england'),\n",
       " ('entire', 'entire', 'entire', 'entire'),\n",
       " ('estimated', 'estimated', 'estimated', 'estimated'),\n",
       " ('event', 'event', 'event', 'event'),\n",
       " ('every', 'every', 'every', 'every'),\n",
       " ('except', 'except', 'except', 'except'),\n",
       " ('f', 'f', 'f', 'f'),\n",
       " ('fifa', 'fifa', 'fifa', 'fifa'),\n",
       " ('final', 'final', 'final', 'final'),\n",
       " ('five', 'five', 'five', 'five'),\n",
       " ('followed', 'followed', 'followed', 'followed'),\n",
       " ('football', 'football', 'football', 'football'),\n",
       " ('format', 'format', 'format', 'format'),\n",
       " ('four', 'four', 'four', 'four'),\n",
       " ('france', 'france', 'france', 'france'),\n",
       " ('germany', 'germany', 'germany', 'germany'),\n",
       " ('global', 'global', 'global', 'global'),\n",
       " ('governing', 'governing', 'governing', 'governing'),\n",
       " ('held', 'held', 'held', 'held'),\n",
       " ('host', 'host', 'host', 'host'),\n",
       " ('hosted', 'hosted', 'hosted', 'hosted'),\n",
       " ('inaugural', 'inaugural', 'inaugural', 'inaugural'),\n",
       " ('including', 'including', 'including', 'including'),\n",
       " ('international', 'international', 'international', 'international'),\n",
       " ('internationale', 'internationale', 'internationale', 'internationale'),\n",
       " ('involves', 'involves', 'involves', 'involves'),\n",
       " ('italy', 'italy', 'italy', 'italy'),\n",
       " ('match', 'match', 'match', 'match'),\n",
       " ('matches', 'matches', 'matches', 'matches'),\n",
       " ('members', 'members', 'members', 'members'),\n",
       " ('men', 'men', 'men', 'men'),\n",
       " ('million', 'million', 'million', 'million'),\n",
       " ('month', 'month', 'month', 'month'),\n",
       " ('nation', 'nation', 'nation', 'nation'),\n",
       " ('national', 'national', 'national', 'national'),\n",
       " ('ninth', 'ninth', 'ninth', 'ninth'),\n",
       " ('often', 'often', 'often', 'often'),\n",
       " ('one', 'one', 'one', 'one'),\n",
       " ('people', 'people', 'people', 'people'),\n",
       " ('phase', 'phase', 'phase', 'phase'),\n",
       " ('place', 'place', 'place', 'place'),\n",
       " ('planet', 'planet', 'planet', 'planet'),\n",
       " ('played', 'played', 'played', 'played'),\n",
       " ('population', 'population', 'population', 'population'),\n",
       " ('preceding', 'preceding', 'preceding', 'preceding'),\n",
       " ('prestigious', 'prestigious', 'prestigious', 'prestigious'),\n",
       " ('qualification', 'qualification', 'qualification', 'qualification'),\n",
       " ('qualify', 'qualify', 'qualify', 'qualify'),\n",
       " ('qualifying', 'qualifying', 'qualifying', 'qualifying'),\n",
       " ('ration', 'ration', 'ration', 'ration'),\n",
       " ('russia', 'russia', 'russia', 'russia'),\n",
       " ('second', 'second', 'second', 'second'),\n",
       " ('senior', 'senior', 'senior', 'senior'),\n",
       " ('simply', 'simply', 'simply', 'simply'),\n",
       " ('since', 'since', 'since', 'since'),\n",
       " ('single', 'single', 'single', 'single'),\n",
       " ('spain', 'spain', 'spain', 'spain'),\n",
       " ('sport', 'sport', 'sport', 'sport'),\n",
       " ('sporting', 'sporting', 'sporting', 'sporting'),\n",
       " ('takes', 'takes', 'takes', 'takes'),\n",
       " ('team', 'team', 'team', 'team'),\n",
       " ('teams', 'teams', 'teams', 'teams'),\n",
       " ('three', 'three', 'three', 'three'),\n",
       " ('times', 'times', 'times', 'times'),\n",
       " ('title', 'title', 'title', 'title'),\n",
       " ('titles', 'titles', 'titles', 'titles'),\n",
       " ('tournament', 'tournament', 'tournament', 'tournament'),\n",
       " ('tournaments', 'tournaments', 'tournaments', 'tournaments'),\n",
       " ('two', 'two', 'two', 'two'),\n",
       " ('uruguay', 'uruguay', 'uruguay', 'uruguay'),\n",
       " ('venues', 'venues', 'venues', 'venues'),\n",
       " ('viewed', 'viewed', 'viewed', 'viewed'),\n",
       " ('viewership', 'viewership', 'viewership', 'viewership'),\n",
       " ('war', 'war', 'war', 'war'),\n",
       " ('watching', 'watching', 'watching', 'watching'),\n",
       " ('well', 'well', 'well', 'well'),\n",
       " ('widely', 'widely', 'widely', 'widely'),\n",
       " ('winner', 'winner', 'winner', 'winner'),\n",
       " ('winners', 'winners', 'winners', 'winners'),\n",
       " ('within', 'within', 'within', 'within'),\n",
       " ('world', 'world', 'world', 'world'),\n",
       " ('years', 'years', 'years', 'years')]"
      ]
     },
     "execution_count": 59,
     "metadata": {},
     "output_type": "execute_result"
    }
   ],
   "source": [
    "list(zip(a,b,c,d))"
   ]
  },
  {
   "cell_type": "code",
   "execution_count": null,
   "id": "b082c1b1",
   "metadata": {},
   "outputs": [],
   "source": []
  }
 ],
 "metadata": {
  "kernelspec": {
   "display_name": "Python 3 (ipykernel)",
   "language": "python",
   "name": "python3"
  },
  "language_info": {
   "codemirror_mode": {
    "name": "ipython",
    "version": 3
   },
   "file_extension": ".py",
   "mimetype": "text/x-python",
   "name": "python",
   "nbconvert_exporter": "python",
   "pygments_lexer": "ipython3",
   "version": "3.8.11"
  }
 },
 "nbformat": 4,
 "nbformat_minor": 5
}
